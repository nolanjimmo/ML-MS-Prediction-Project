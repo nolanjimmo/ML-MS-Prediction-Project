{
 "cells": [
  {
   "cell_type": "markdown",
   "id": "fbae6aa9",
   "metadata": {},
   "source": [
    "Notebook for our final project!\n",
    "\n",
    "Team:\n",
    "Nolan Jimmo\n",
    "Nicole Donahue\n",
    "Frederick Carlson\n",
    "Xinyu Liu"
   ]
  },
  {
   "cell_type": "code",
   "execution_count": 31,
   "id": "817b4ce2",
   "metadata": {},
   "outputs": [],
   "source": [
    "#Imports, function def and some file reading\n",
    "\n",
    "import numpy as np\n",
    "import pandas as pd\n",
    "import glob\n",
    "import csv\n",
    "from sklearn.model_selection import train_test_split\n",
    "from sklearn.metrics import confusion_matrix\n",
    "from sklearn.svm import SVC\n",
    "from sklearn import linear_model\n",
    "from sklearn.ensemble import RandomForestClassifier\n",
    "\n",
    "def conf_matrix_to_df(conf_matrix, target_names):\n",
    "    return pd.DataFrame(conf_matrix, columns=target_names, index=target_names)\n",
    "\n",
    "\n",
    "#reading in EDSS Score data\n",
    "EDSS_FILENAME = \"data/EDSS_Scores.csv\"\n",
    "EDSS_scores = pd.read_csv(EDSS_FILENAME)"
   ]
  },
  {
   "cell_type": "markdown",
   "id": "48456703",
   "metadata": {},
   "source": [
    "Find the subject ids that have valid EDSS scores to be able to just train model on these subjects data. Storing the valid subject id and scores in a dictionary with the structure: {Subject ID: (baseline score, 6mo score)}"
   ]
  },
  {
   "cell_type": "code",
   "execution_count": 32,
   "id": "b631b702",
   "metadata": {},
   "outputs": [],
   "source": [
    "valid_sids = {}\n",
    "for i, row in EDSS_scores.iterrows():\n",
    "    if type(row[\"Subject ID \"]) == float:\n",
    "        break\n",
    "    if row[\"EDSS Baseline (Score out of 10) \"] != np.NaN and row[\"EDSS 6mo (Score out of 10) \"] != np.NaN:\n",
    "        valid_sids[(row[\"Subject ID \"])] = (str(row[\"EDSS Baseline (Score out of 10) \"]), str(row[\"EDSS 6mo (Score out of 10) \"]))\n",
    "#print(valid_sids)"
   ]
  },
  {
   "cell_type": "markdown",
   "id": "53ca0fbe",
   "metadata": {},
   "source": [
    "converting regular EDSS scores to the binary 0, or 1, for low vs. moderate/severe EDSS score. Everything up to 4 will be 0, everything 4 and above will be moderate/severe score"
   ]
  },
  {
   "cell_type": "code",
   "execution_count": 33,
   "id": "56e6ef0c",
   "metadata": {},
   "outputs": [],
   "source": [
    "valid_sids_generalized = {}\n",
    "for key, value in valid_sids.items():\n",
    "    if float(value[0]) < 4:\n",
    "        v1 = 0\n",
    "    else:\n",
    "        v1 = 1\n",
    "    if float(value[1]) < 4:\n",
    "        v2 = 0\n",
    "    else:\n",
    "        v2 = 0\n",
    "    valid_sids_generalized[key] = (v1, v2)"
   ]
  },
  {
   "cell_type": "markdown",
   "id": "8a9d6eb6",
   "metadata": {},
   "source": [
    "Get filenames for the valid subject data files out of the data folder, for both the baseline and 6mo data\n",
    "\n",
    "NOTES: This is all pretty much just data preprocessing, getting the filenames that correspond to the subjects that we know we have EDSS scores for, then going and getting all of the data for each of those valid subjects. For each row of data per subject I add column (feature) that is the target feature, which is just their EDSS score for this time period. I then store that data in a list (called calid_subject_data) in order to facilitate creating the dataframe that I will use in the training/testing of our model"
   ]
  },
  {
   "cell_type": "code",
   "execution_count": 34,
   "id": "23510d26",
   "metadata": {},
   "outputs": [],
   "source": [
    "# here, it is the baseline of the gait data\n",
    "gait_baseline_filenames = glob.glob(\"data/Processed Data - MS +/Sway/MS1 Session 1/*\")\n",
    "#print((gait_baseline_filenames))\n",
    "removal = []\n",
    "for g in gait_baseline_filenames:\n",
    "    if g[-9:-4] not in valid_sids_generalized.keys():\n",
    "        removal.append(g)\n",
    "\n",
    "gait_b_filenames = [l for l in gait_baseline_filenames if l not in removal]\n",
    "\n",
    "###NOTE: In this test below, sometimes the two lists are not the same length\n",
    "# HOWEVER, the valid EDSS subject ids list is always longer, so we will always have a\n",
    "# \"target\" for each feature set, so we should be good to go\n",
    "#print(len(gait_b_filenames), len(valid_sids.keys()))\n",
    "\n",
    "\n",
    "# here, it is the 6mo of the gait data\n",
    "gait_6mo_filenames = glob.glob(\"data/Processed Data - MS +/Sway/MS1 Session 2/*\")\n",
    "#print((gait_baseline_filenames))\n",
    "removal = []\n",
    "for g in gait_baseline_filenames:\n",
    "    if g[-9:-4] not in valid_sids_generalized.keys():\n",
    "        removal.append(g)\n",
    "\n",
    "gait_6_filenames = [l for l in gait_baseline_filenames if l not in removal]\n",
    "\n",
    "# Now, loop through the valid files, get the features from each valid subject and assign\n",
    "MAX_ROWS_PER_SUBJECT = 20\n",
    "# their EDSS score as the \"target\"\n",
    "valid_subject_data = []\n",
    "cols = []\n",
    "for g in gait_b_filenames:\n",
    "    with open(g, 'r') as file:\n",
    "        reader = csv.reader(file)\n",
    "        if cols == []:\n",
    "            cols = next(file).strip().split(',')\n",
    "            cols.append('target')\n",
    "        count = 0\n",
    "        for row in reader:\n",
    "            if row[0] != 'timestamp_start':\n",
    "                if valid_sids_generalized[g[-9:-4]][0] == 0 and count < MAX_ROWS_PER_SUBJECT:\n",
    "                    row.append(valid_sids_generalized[g[-9:-4]][0])\n",
    "                    valid_subject_data.append(row)\n",
    "                    count += 1\n",
    "                elif valid_sids_generalized[g[-9:-4]][0] == 1:\n",
    "                    row.append(valid_sids_generalized[g[-9:-4]][0])\n",
    "                    valid_subject_data.append(row)\n",
    "                else:\n",
    "                    break\n",
    "\n",
    "# doing the exact some thing as before, just with the 6 month data\n",
    "# We can just add this data straight to the valid_subject_data list because it is all going\n",
    "# to be training data\n",
    "# We do have to separate the for loops though because we have to add the proper EDSS value\n",
    "# from the valid_sids dictionary\n",
    "for g6 in gait_6mo_filenames:\n",
    "    with open(g6, 'r') as file:\n",
    "        reader = csv.reader(file)\n",
    "        if cols == []:\n",
    "            cols = next(file).strip().split(',')\n",
    "            cols.append('target')\n",
    "        count = 0\n",
    "        for row in reader:\n",
    "            if row[0] != 'timestamp_start':\n",
    "                if valid_sids_generalized[g[-9:-4]][1] == 0 and count < MAX_ROWS_PER_SUBJECT:\n",
    "                    row.append(valid_sids_generalized[g[-9:-4]][1])\n",
    "                    valid_subject_data.append(row)\n",
    "                    count += 1\n",
    "                elif valid_sids_generalized[g[-9:-4]][1] == 1:\n",
    "                    row.append(valid_sids_generalized[g[-9:-4]][1])\n",
    "                    valid_subject_data.append(row)\n",
    "                else:\n",
    "                    break\n",
    "#print(cols)\n",
    "#print(valid_subject_data[:5])\n",
    "num_observations = len(valid_subject_data)"
   ]
  },
  {
   "cell_type": "markdown",
   "id": "4d23ef6a",
   "metadata": {},
   "source": [
    "Final setup for the features dataframe and then training/testing the SVM model!\n",
    "\n",
    "NOTES:\n",
    "As you can see from the models that are commented out, I tried a number of different models, and it looks like the random forest classifier is going to be the one that works the best. Basically, here, I drop all of the non-important features colums, break the data in to testing and training partitions, train the model and then test it."
   ]
  },
  {
   "cell_type": "code",
   "execution_count": 35,
   "id": "06358237",
   "metadata": {},
   "outputs": [
    {
     "name": "stdout",
     "output_type": "stream",
     "text": [
      "training\n",
      "predicting\n",
      "\n",
      "Printing confusion matrix\n"
     ]
    },
    {
     "data": {
      "text/html": [
       "<div>\n",
       "<style scoped>\n",
       "    .dataframe tbody tr th:only-of-type {\n",
       "        vertical-align: middle;\n",
       "    }\n",
       "\n",
       "    .dataframe tbody tr th {\n",
       "        vertical-align: top;\n",
       "    }\n",
       "\n",
       "    .dataframe thead th {\n",
       "        text-align: right;\n",
       "    }\n",
       "</style>\n",
       "<table border=\"1\" class=\"dataframe\">\n",
       "  <thead>\n",
       "    <tr style=\"text-align: right;\">\n",
       "      <th></th>\n",
       "      <th>0</th>\n",
       "      <th>1</th>\n",
       "    </tr>\n",
       "  </thead>\n",
       "  <tbody>\n",
       "    <tr>\n",
       "      <th>0</th>\n",
       "      <td>150</td>\n",
       "      <td>33</td>\n",
       "    </tr>\n",
       "    <tr>\n",
       "      <th>1</th>\n",
       "      <td>43</td>\n",
       "      <td>130</td>\n",
       "    </tr>\n",
       "  </tbody>\n",
       "</table>\n",
       "</div>"
      ],
      "text/plain": [
       "     0    1\n",
       "0  150   33\n",
       "1   43  130"
      ]
     },
     "execution_count": 35,
     "metadata": {},
     "output_type": "execute_result"
    }
   ],
   "source": [
    "df = pd.DataFrame(valid_subject_data, columns=cols)\n",
    "#print(df)\n",
    "#get rid of the non-important or NaN valued \"features\"\n",
    "df.drop(df.columns[[0,1,2,6,16]], axis=1, inplace=True)\n",
    "#print(df)\n",
    "df.fillna(0)\n",
    "\n",
    "#Train the model and see what happens!\n",
    "x_train, x_test, y_train, y_test = train_test_split(df.iloc[:, df.columns != 'target'], np.array(df.iloc[:, df.columns == 'target']).reshape(num_observations,), test_size = 0.2, random_state = 0)\n",
    "#svm = SVC(kernel=\"poly\")\n",
    "#lin_model = linear_model.LogisticRegression()\n",
    "rfc = RandomForestClassifier()\n",
    "print('training')\n",
    "rfc.fit(x_train, y_train)\n",
    "print(\"predicting\")\n",
    "svm_y_predict = rfc.predict(x_test)\n",
    "\n",
    "conf_matrix_svm = confusion_matrix(y_test, svm_y_predict)\n",
    "print(\"\\nPrinting confusion matrix\")\n",
    "conf_matrix_to_df(conf_matrix_svm, [0,1])\n",
    "#print(conf_matrix_svm)"
   ]
  },
  {
   "cell_type": "markdown",
   "id": "7bbdaf48",
   "metadata": {},
   "source": [
    "Notes moving forward to try and improve performance:\n",
    "\n",
    "1. Use a regression model rather than an SVM\n",
    "2. Do a better job of equalizing how much data we have from low EDSS scores (healthier people) vs high EDSS scores (not as healthy people)\n",
    "    - Currently, there is significantly more data from the healthier people, and not as much data from the not as healthy people, so all of the test data gets predicted as low EDSS (0). We can either omit a proportional amount of the low EDSS score training data, or we can add a bunch of mean-wise approximated data for high EDSS patients\n",
    "    - This second approach is not as scalable as the first because we can only add data based on data that we already have, so this approach would really only help us for the binary, low/high edss scores, any not the ultimate classification of individual EDSS score (we would then have a high density of data/scores for the small domain of high EDSS scores that we have recorded)\n",
    "\n",
    "Things done to address the problems/solutions above (3/22/21):\n",
    "1. Tried a regression model, worked worse than the SVM. Ended up with a RandomForestClassifier() that has proven to work pretty well, certainly much, much better than the SVM or the regression models (even though still not awesome)\n",
    "2. While it is not a perfect way of dealing with a disproportionate amount of data per target, I just limited the amount of data that there is in the processed dataset based on the target value. I limited healthier scores (target value 0) to 50 rows of data per subject, and did not limit the amount of data per target value 1 subject"
   ]
  }
 ],
 "metadata": {
  "kernelspec": {
   "display_name": "Python 3 (ipykernel)",
   "language": "python",
   "name": "python3"
  },
  "language_info": {
   "codemirror_mode": {
    "name": "ipython",
    "version": 3
   },
   "file_extension": ".py",
   "mimetype": "text/x-python",
   "name": "python",
   "nbconvert_exporter": "python",
   "pygments_lexer": "ipython3",
   "version": "3.9.0"
  }
 },
 "nbformat": 4,
 "nbformat_minor": 5
}
